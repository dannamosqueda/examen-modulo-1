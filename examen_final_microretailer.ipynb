{
  "nbformat": 4,
  "nbformat_minor": 0,
  "metadata": {
    "colab": {
      "provenance": [],
      "authorship_tag": "ABX9TyN6m1IwN+5dl9qegWuaha/h",
      "include_colab_link": true
    },
    "kernelspec": {
      "name": "python3",
      "display_name": "Python 3"
    },
    "language_info": {
      "name": "python"
    }
  },
  "cells": [
    {
      "cell_type": "markdown",
      "metadata": {
        "id": "view-in-github",
        "colab_type": "text"
      },
      "source": [
        "<a href=\"https://colab.research.google.com/github/dannamosqueda/examen-modulo-1/blob/main/examen_final_microretailer.ipynb\" target=\"_parent\"><img src=\"https://colab.research.google.com/assets/colab-badge.svg\" alt=\"Open In Colab\"/></a>"
      ]
    },
    {
      "cell_type": "code",
      "execution_count": 1,
      "metadata": {
        "id": "JWsO8rwCxCG8"
      },
      "outputs": [],
      "source": [
        "import pandas as pd\n",
        "import numpy as np\n",
        "import matplotlib.pyplot as plt"
      ]
    },
    {
      "cell_type": "code",
      "source": [
        "from google.colab import files\n",
        "files.upload()"
      ],
      "metadata": {
        "id": "zRdr1XcExIoX"
      },
      "execution_count": null,
      "outputs": []
    },
    {
      "cell_type": "code",
      "source": [
        "data=pd.read_excel('microretailer_mit_lift_lab.xlsx') "
      ],
      "metadata": {
        "id": "DcXLORWdxKgY"
      },
      "execution_count": 3,
      "outputs": []
    },
    {
      "cell_type": "code",
      "source": [
        "valores_nulos=data.isnull().sum()\n",
        "valores_nulos"
      ],
      "metadata": {
        "id": "PIurNwr2xjVE"
      },
      "execution_count": null,
      "outputs": []
    },
    {
      "cell_type": "code",
      "source": [
        "data1=data.fillna(method='bfill') #eliminamos  los valores nulos numéricos  \n",
        "data1"
      ],
      "metadata": {
        "id": "o_QSmD4Lxnzo"
      },
      "execution_count": null,
      "outputs": []
    },
    {
      "cell_type": "code",
      "source": [
        "data2=data1.fillna(method='bfill') #eliminamos los valores nulos numéricos \n",
        "data2"
      ],
      "metadata": {
        "id": "lx6RYWDCxrW2"
      },
      "execution_count": null,
      "outputs": []
    },
    {
      "cell_type": "code",
      "source": [
        "data2[\"318_shopkeeper_name\"]=data2[\"318_shopkeeper_name\"].fillna(\"318_shopkeeper_name\")\n",
        "data2[\"319_shopkeepers_last_name\"]=data2[\"319_shopkeepers_last_name\"].fillna(\"319_shopkeepers_last_name\")\n",
        "data2[\"236_whatsapp\"]=data2[\"236_whatsapp\"].fillna(\"236_whatsapp\")\n",
        "data2[\"235_email\"]=data2[\"235_email\"].fillna(\"235_email\")\n",
        "data2[\"145_number_direct_competitors\"]=data2[\"145_number_direct_competitors\"].fillna(\"145_number_direct_competitors\")\n",
        "data2[\"233_date_establishment\"]=data2[\"233_date_establishment\"].fillna(\"233_date_establishment\")\n",
        "data2[\"20_reviews_finances_monthly\"]=data2[\"20_reviews_finances_monthly\"].fillna(\"20_reviews_finances_monthly\")\n",
        "data2[\"2_current_permanent_employees\"]=data2[\"2_current_permanent_employees\"].fillna(\"2_current_permanent_employees\")\n",
        "data2[\"4_number_permanent_employees_last_year\"]=data2[\"4_number_permanent_employees_last_year\"].fillna(\"4_number_permanent_employees_last_year\")\n",
        "data2[\"5_change_store_space_last_year\"]=data2[\"5_change_store_space_last_year\"].fillna(\"5_change_store_space_last_year\")\n",
        "data2[\"49_inventory_records\"]=data2[\"49_inventory_records\"].fillna(\"49_inventory_records\")\n",
        "data2[\"310_burnout\"]=data2[\"310_burnout\"].fillna(\"310_burnout\")\n",
        "data2[\"24_burnout\"]=data2[\"24_burnout\"].fillna(\"24_burnout\")\n",
        "data2[\"210_sales_channels\"]=data2[\"210_sales_channels\"].fillna(\"210_sales_channels\")\n",
        "data2[\"186_internet_connection\"]=data2[\"186_internet_connection\"].fillna(\"186_internet_connection\")\n",
        "data2[\"19_tax_id\"]=data2[\"19_tax_id\"].fillna(\"19_tax_id\")\n",
        "data2[\"18_sales_records\"]=data2[\"18_sales_records\"].fillna(\"18_sales_records\")\n",
        "data2[\"270_card_extra_charge\"]=data2[\"270_card_extra_charge\"].fillna(\"270_card_extra_charge\")\n",
        "data2[\"155_sales_registers_used_for\"]=data2[\"155_sales_registers_used_for\"].fillna(\"155_sales_registers_used_for\")\n",
        "data2[\"103_number_own_fridges\"]=data2[\"103_number_own_fridges\"].fillna(\"103_number_own_fridges\")\n",
        "data2[\"189_payment_methods\"]=data2[\"189_payment_methods\"].fillna(\"189_payment_methods\")\n",
        "data2[\"271_card_fee\"]=data2[\"271_card_fee\"].fillna(\"271_card_fee\")\n",
        "data2[\"31_different_prices_payment_method\"]=data2[\"31_different_prices_payment_method\"].fillna(\"31_different_prices_payment_method\")\n",
        "data2[\"28_prefered_payment_method\"]=data2[\"28_prefered_payment_method\"].fillna(\"28_prefered_payment_method\")\n",
        "data2[\"269_cash_discount\"]=data2[\"269_cash_discount\"].fillna(\"269_cash_discount\")\n",
        "data2[\"275_platform_days_receive_money\"]=data2[\"275_platform_days_receive_money\"].fillna(\"275_platform_days_receive_money\")\n",
        "data2[\"30_payment_methods_large_purchases\"]=data2[\"30_payment_methods_large_purchases\"].fillna(\"30_payment_methods_large_purchases\")\n",
        "data2[\"272_card_days_receive_money\"]=data2[\"272_card_days_receive_money\"].fillna(\"272_card_days_receive_money\")\n",
        "data2[\"274_platform_fee\"]=data2[\"274_platform_fee\"].fillna(\"274_platform_fee\")\n",
        "data2[\"214_customer_relationship_tools\"]=data2[\"214_customer_relationship_tools\"].fillna(\"214_customer_relationship_tools\")\n",
        "data2[\"273_platform_extra_charge\"]=data2[\"273_platform_extra_charge\"].fillna(\"273_platform_extra_charge\")\n",
        "data2[\"227_agreement_ecommerce_platforms\"]=data2[\"227_agreement_ecommerce_platforms\"].fillna(\"227_agreement_ecommerce_platforms\")\n",
        "data2[\"33_credit_to_customers\"]=data2[\"33_credit_to_customers\"].fillna(\"33_credit_to_customers\")\n",
        "data2[\"276_expected_days_informal_credit\"]=data2[\"276_expected_days_informal_credit\"].fillna(\"276_expected_days_informal_credit\")\n",
        "data2[\"35_interest_rate\"]=data2[\"35_interest_rate\"].fillna(\"35_interest_rate\")\n",
        "data2[\"60_services\"]=data2[\"60_services\"].fillna(\"60_services\")"
      ],
      "metadata": {
        "id": "_0-h4732xrfl"
      },
      "execution_count": 10,
      "outputs": []
    },
    {
      "cell_type": "code",
      "source": [
        "data2[\"36_credit_default_rate\"]=data2[\"36_credit_default_rate\"].fillna(\"36_credit_default_rate\")\n",
        "data2[\"193_sales_planning_tools\"]=data2[\"193_sales_planning_tools\"].fillna(\"193_sales_planning_tools\")\n",
        "data2[\"315_frequency_topups\"]=data2[\"315_frequency_topups\"].fillna(\"315_frequency_topups\")\n",
        "data2[\"317_home_deliveries\"]=data2[\"317_home_deliveries\"].fillna(\"317_home_deliveries\")\n",
        "data2[\"62_frequency_only_services\"]=data2[\"62_frequency_only_services\"].fillna(\"62_frequency_only_services\")\n",
        "data2[\"38_average_margin_profits\"]=data2[\"38_average_margin_profits\"].fillna(\"38_average_margin_profits\")\n",
        "data2[\"79_delivery_vehicle\"]=data2[\"79_delivery_vehicle\"].fillna(\"79_delivery_vehicle\")\n",
        "data2[\"316_frequency_utility_bills\"]=data2[\"316_frequency_utility_bills\"].fillna(\"316_frequency_utility_bills\")\n",
        "data2[\"77_delivery_timeslots\"]=data2[\"77_delivery_timeslots\"].fillna(\"77_delivery_timeslots\")\n",
        "data2[\"66_percentaje_services_income\"]=data2[\"66_percentaje_services_income\"].fillna(\"66_percentaje_services_income\")\n",
        "data2[\"64_comission_services\"]=data2[\"64_comission_services\"].fillna(\"64_comission_services\")\n",
        "data2[\"69_why_not_services\"]=data2[\"69_why_not_services\"].fillna(\"69_why_not_services\")\n",
        "data2[\"42_willingness_share_inventory_data_suppliers\"]=data2[\"42_willingness_share_inventory_data_suppliers\"].fillna(\"42_willingness_share_inventory_data_suppliers\")\n",
        "data2[\"311_topups\"]=data2[\"311_topups\"].fillna(\"311_topups\")\n",
        "data2[\"44_willingness_inventory_management_suppliers\"]=data2[\"44_willingness_inventory_management_suppliers\"].fillna(\"44_willingness_inventory_management_suppliers\")\n",
        "data2[\"313_home_deliveries\"]=data2[\"313_home_deliveries\"].fillna(\"313_home_deliveries\")\n",
        "data2[\"58_willingness_share_sales_data_mse\"]=data2[\"58_willingness_share_sales_data_mse\"].fillna(\"58_willingness_share_sales_data_mse\")\n",
        "data2[\"43_willingness_share_sales_data_suppliers\"]=data2[\"43_willingness_share_sales_data_suppliers\"].fillna(\"43_willingness_share_sales_data_suppliers\")\n",
        "data2[\"312_payment_of_utilities\"]=data2[\"312_payment_of_utilities\"].fillna(\"312_payment_of_utilities\")\n",
        "data2[\"45_willingness_reorder_suppliers\"]=data2[\"45_willingness_reorder_suppliers\"].fillna(\"45_willingness_reorder_suppliers\")\n",
        "data2[\"59_willingness_share_sales_data_mse_better_prices\"]=data2[\"59_willingness_share_sales_data_mse_better_prices\"].fillna(\"59_willingness_share_sales_data_mse_better_prices\")\n",
        "data2[\"46_willingness_reorder_suppliers_variety\"]=data2[\"46_willingness_reorder_suppliers_variety\"].fillna(\"46_willingness_reorder_suppliers_variety\")\n",
        "data2[\"78_number_home_deliveries_week\"]=data2[\"78_number_home_deliveries_week\"].fillna(\"78_number_home_deliveries_week\")\n",
        "data2[\"47_willingness_reorder_suppliers_lower_prices\"]=data2[\"47_willingness_reorder_suppliers_lower_prices\"].fillna(\"47_willingness_reorder_suppliers_lower_prices\")\n",
        "data2[\"314_reception_delivery_packages\"]=data2[\"314_reception_delivery_packages\"].fillna(\"314_reception_delivery_packages\")\n",
        "data2[\"172_supplier_frequency\"]=data2[\"172_supplier_frequency\"].fillna(\"172_supplier_frequency\")\n",
        "data2[\"185_place_orders_suppliers\"]=data2[\"185_place_orders_suppliers\"].fillna(\"185_place_orders_suppliers\")\n",
        "data2[\"268_number_fridges\"]=data2[\"268_number_fridges\"].fillna(\"268_number_fridges\")\n",
        "data2[\"53_special_conditions_suppliers\"]=data2[\"53_special_conditions_suppliers\"].fillna(\"53_special_conditions_suppliers\")\n",
        "data2[\"192_procurement_planning_tools\"]=data2[\"192_procurement_planning_tools\"].fillna(\"192_procurement_planning_tools\")\n",
        "data2[\"56_procurement_changes_pandemic\"]=data2[\"56_procurement_changes_pandemic\"].fillna(\"56_procurement_changes_pandemic\")\n",
        "data2[\"277_payment_method_suppliers\"]=data2[\"277_payment_method_suppliers\"].fillna(\"277_payment_method_suppliers\")\n",
        "data2[\"279_changes_procurement_pandemic\"]=data2[\"279_changes_procurement_pandemic\"].fillna(\"279_changes_procurement_pandemic\")\n",
        "data2[\"278_credit_interest\"]=data2[\"278_credit_interest\"].fillna(\"278_credit_interest\")\n",
        "data2[\"pictures_of_shelves_if_possible\"]=data2[\"pictures_of_shelves_if_possible\"].fillna(\"pictures_of_shelves_if_possible\")\n",
        "data2[\"234_willingness_participate_workshop\"]=data2[\"234_willingness_participate_workshop\"].fillna(\"234_willingness_participate_workshop\")\n",
        "data2[\"157_frequency_organize_shelves\"]=data2[\"157_frequency_organize_shelves\"].fillna(\"157_frequency_organize_shelves\")\n",
        "data2[\"158_charact_organize_products_on_shelves\"]=data2[\"158_charact_organize_products_on_shelves\"].fillna(\"158_charact_organize_products_on_shelves\")\n",
        "data2[\"161_actions_stockouts\"]=data2[\"161_actions_stockouts\"].fillna(\"161_actions_stockouts\")\n",
        "data2[\"261_technology_organization\"]=data2[\"261_technology_organization\"].fillna(\"261_technology_organization\")\n",
        "data2[\"162_inventory_extra_space\"]=data2[\"162_inventory_extra_space\"].fillna(\"162_inventory_extra_space\")"
      ],
      "metadata": {
        "id": "TjnMsFUlyPZ6"
      },
      "execution_count": 11,
      "outputs": []
    },
    {
      "cell_type": "code",
      "source": [
        "data2[\"250_technology_investment_operations\"]=data2[\"250_technology_investment_operations\"].fillna(\"250_technology_investment_operations\")\n",
        "data2[\"318_shopkeeper_name\"]=data2[\"318_shopkeeper_name\"].fillna(\"318_shopkeeper_name\")\n",
        "data2[\"249_technology_training\"]=data2[\"249_technology_training\"].fillna(\"249_technology_training\")\n",
        "data2[\"163_number_high_perishable_products\"]=data2[\"163_number_high_perishable_products\"].fillna(\"163_number_high_perishable_products\")\n",
        "data2[\"254_technology_roadmap\"]=data2[\"254_technology_roadmap\"].fillna(\"254_technology_roadmap\")\n",
        "data2[\"260_technology_scalable\"]=data2[\"260_technology_scalable\"].fillna(\"260_technology_scalable\")\n",
        "data2[\"262_technology_serve_customers\"]=data2[\"262_technology_serve_customers\"].fillna(\"262_technology_serve_customers\")\n",
        "data2[\"264_technology_budget\"]=data2[\"264_technology_budget\"].fillna(\"264_technology_budget\")\n",
        "data2[\"263_technology_secure_sales\"]=data2[\"263_technology_secure_sales\"].fillna(\"263_technology_secure_sales\")\n",
        "data2[\"267_technology_investment_customer_preferences\"]=data2[\"267_technology_investment_customer_preferences\"].fillna(\"267_technology_investment_customer_preferences\")\n",
        "data2[\"251_technology_investment_customers\"]=data2[\"251_technology_investment_customers\"].fillna(\"251_technology_investment_customers\")\n",
        "data2['318_shopkeeper_name']=data2['318_shopkeeper_name'].fillna(method='ffill')\n",
        "data2['234_willingness_participate_workshop']=data2['234_willingness_participate_workshop'].fillna(method='ffill')\n",
        "data2['319_shopkeepers_last_name']=data2['319_shopkeepers_last_name'].fillna(method='ffill')\n",
        "data2['235_email']=data2['235_email'].fillna(method='ffill')"
      ],
      "metadata": {
        "id": "EDkF9mdCySfW"
      },
      "execution_count": 12,
      "outputs": []
    },
    {
      "cell_type": "code",
      "source": [
        "valores_nulos=data2.isnull().sum()\n",
        "valores_nulos #checamos si aun hay valores nulos\n"
      ],
      "metadata": {
        "colab": {
          "base_uri": "https://localhost:8080/"
        },
        "id": "kcpueqJgyWsn",
        "outputId": "39c7a447-52f8-4e77-e614-7fe360ccd658"
      },
      "execution_count": 14,
      "outputs": [
        {
          "output_type": "execute_result",
          "data": {
            "text/plain": [
              "_record_id                              0\n",
              "_title                                  0\n",
              "_server_updated_at                      0\n",
              "_updated_by                             0\n",
              "_geometry                               0\n",
              "                                       ..\n",
              "234_willingness_participate_workshop    0\n",
              "318_shopkeeper_name                     0\n",
              "319_shopkeepers_last_name               0\n",
              "236_whatsapp                            0\n",
              "235_email                               0\n",
              "Length: 106, dtype: int64"
            ]
          },
          "metadata": {},
          "execution_count": 14
        }
      ]
    },
    {
      "cell_type": "code",
      "source": [
        "#diagrama de caja de bigote de todo el data\n",
        "fig=plt.figure(figsize=(15,8)) \n",
        "data2.plot(kind=\"box\",vert=False) \n",
        "plt.title(\"Valores atípicos del DataFrame\") \n",
        "plt.show()"
      ],
      "metadata": {
        "colab": {
          "base_uri": "https://localhost:8080/",
          "height": 299
        },
        "id": "InrBO6qMyy8A",
        "outputId": "67e196ec-fad4-460e-d4d3-2fa7f11a75d2"
      },
      "execution_count": 15,
      "outputs": [
        {
          "output_type": "display_data",
          "data": {
            "text/plain": [
              "<Figure size 1080x576 with 0 Axes>"
            ]
          },
          "metadata": {}
        },
        {
          "output_type": "display_data",
          "data": {
            "text/plain": [
              "<Figure size 432x288 with 1 Axes>"
            ],
            "image/png": "[encoded data removed]"
          },
          "metadata": {
            "needs_background": "light"
          }
        }
      ]
    },
    {
      "cell_type": "code",
      "source": [
        "y=data2['104_how_many_shelves_does_the_micro_retailer_have']\n",
        "p25=y.quantile(0.25)\n",
        "p75=y.quantile(0.75)\n",
        "iqr=p75-p25\n",
        "\n",
        "lsiqr=p75+1.5*iqr\n",
        "liiqr=p25-1.5*iqr\n",
        "\n",
        "print('Limite superior permitido', lsiqr)\n",
        "print('Limite inferior permitido', liiqr)"
      ],
      "metadata": {
        "colab": {
          "base_uri": "https://localhost:8080/"
        },
        "id": "E8FCn9fYy6sP",
        "outputId": "04386976-4316-46a3-8e84-d89eb8650ae2"
      },
      "execution_count": 16,
      "outputs": [
        {
          "output_type": "stream",
          "name": "stdout",
          "text": [
            "Limite superior permitido 16.0\n",
            "Limite inferior permitido -8.0\n"
          ]
        }
      ]
    },
    {
      "cell_type": "code",
      "source": [
        "outliers_iqr=data2[(y>lsiqr)|(y<liiqr)]\n",
        "outliers_iqr"
      ],
      "metadata": {
        "id": "Ni0f-_14zBdO"
      },
      "execution_count": null,
      "outputs": []
    },
    {
      "cell_type": "code",
      "source": [
        "outliers1_iqr=data2[(y<lsiqr)&(y>liiqr)] \n",
        "outliers1_iqr"
      ],
      "metadata": {
        "id": "s0pqHIDnzDhD"
      },
      "execution_count": null,
      "outputs": []
    },
    {
      "cell_type": "code",
      "source": [
        "\n",
        "fig=plt.figure(figsize=(5,3))\n",
        "plt.boxplot(outliers_iqr['104_how_many_shelves_does_the_micro_retailer_have'])\n",
        "plt.title('Valores atipicos')\n",
        "plt.show()"
      ],
      "metadata": {
        "colab": {
          "base_uri": "https://localhost:8080/",
          "height": 227
        },
        "id": "xpKVP_hNzGP4",
        "outputId": "45755f5f-a599-4987-eacd-bc812e41f439"
      },
      "execution_count": 20,
      "outputs": [
        {
          "output_type": "display_data",
          "data": {
            "text/plain": [
              "<Figure size 360x216 with 1 Axes>"
            ],
            "image/png": "[encoded data removed]"
          },
          "metadata": {
            "needs_background": "light"
          }
        }
      ]
    },
    {
      "cell_type": "code",
      "source": [
        "y=data2['268_number_fridges']\n",
        "p25=y.quantile(0.25)\n",
        "p75=y.quantile(0.75)\n",
        "iqr=p75-p25\n",
        "\n",
        "lsiqr=p75+1.5*iqr\n",
        "liiqr=p25-1.5*iqr\n",
        "\n",
        "print('Limite superior permitido', lsiqr)\n",
        "print('Limite inferior permitido', liiqr)"
      ],
      "metadata": {
        "id": "vlmGUn2AzVqQ"
      },
      "execution_count": null,
      "outputs": []
    },
    {
      "cell_type": "code",
      "source": [
        "outliers_iqr=data2[(y>lsiqr)|(y<liiqr)]\n",
        "outliers_iqr"
      ],
      "metadata": {
        "id": "cJHKjeOczVtb"
      },
      "execution_count": null,
      "outputs": []
    },
    {
      "cell_type": "code",
      "source": [
        "outliers1_iqr=data2[(y<lsiqr)&(y>liiqr)] \n",
        "outliers1_iqr"
      ],
      "metadata": {
        "id": "N6C-OEXwzVxc"
      },
      "execution_count": null,
      "outputs": []
    },
    {
      "cell_type": "code",
      "source": [
        "\n",
        "fig=plt.figure(figsize=(5,3))\n",
        "plt.boxplot(outliers_iqr['268_number_fridges'])\n",
        "plt.title('Valores atipicos')\n",
        "plt.show()"
      ],
      "metadata": {
        "id": "PzYoAZAyzVzp"
      },
      "execution_count": null,
      "outputs": []
    },
    {
      "cell_type": "code",
      "source": [
        "y=data2['97_number_of_customers_in_store']\n",
        "p25=y.quantile(0.25)\n",
        "p75=y.quantile(0.75)\n",
        "iqr=p75-p25\n",
        "\n",
        "lsiqr=p75+1.5*iqr\n",
        "liiqr=p25-1.5*iqr\n",
        "\n",
        "print('Limite superior permitido', lsiqr)\n",
        "print('Limite inferior permitido', liiqr)"
      ],
      "metadata": {
        "colab": {
          "base_uri": "https://localhost:8080/"
        },
        "id": "Yoa8v2hFzV2F",
        "outputId": "b4633451-f220-4071-e0c5-3b81b63ab80e"
      },
      "execution_count": 25,
      "outputs": [
        {
          "output_type": "stream",
          "name": "stdout",
          "text": [
            "Limite superior permitido 5.0\n",
            "Limite inferior permitido -3.0\n"
          ]
        }
      ]
    },
    {
      "cell_type": "code",
      "source": [
        "outliers_iqr=data2[(y>lsiqr)|(y<liiqr)]\n",
        "outliers_iqr"
      ],
      "metadata": {
        "id": "_3gQLPJ5zV48"
      },
      "execution_count": null,
      "outputs": []
    },
    {
      "cell_type": "code",
      "source": [
        "outliers1_iqr=data2[(y<lsiqr)&(y>liiqr)] \n",
        "outliers1_iqr"
      ],
      "metadata": {
        "id": "F-OKHuTRzV7r"
      },
      "execution_count": 27,
      "outputs": []
    },
    {
      "cell_type": "code",
      "source": [
        "\n",
        "fig=plt.figure(figsize=(5,3))\n",
        "plt.boxplot(outliers_iqr['97_number_of_customers_in_store'])\n",
        "plt.title('Valores atipicos')\n",
        "plt.show()"
      ],
      "metadata": {
        "colab": {
          "base_uri": "https://localhost:8080/",
          "height": 227
        },
        "id": "YgnJNjevzV-s",
        "outputId": "45bd7e9b-4392-47f5-a734-c67cb31a1dc0"
      },
      "execution_count": 28,
      "outputs": [
        {
          "output_type": "display_data",
          "data": {
            "text/plain": [
              "<Figure size 360x216 with 1 Axes>"
            ],
            "image/png": "[encoded data removed]"
          },
          "metadata": {
            "needs_background": "light"
          }
        }
      ]
    },
    {
      "cell_type": "code",
      "source": [
        "outliers1_iqr.to_csv('microretailer.csv')"
      ],
      "metadata": {
        "id": "xz0PZVEhz0IS"
      },
      "execution_count": 29,
      "outputs": []
    },
    {
      "cell_type": "code",
      "source": [
        "from google.colab import files \n",
        "files.download('microretailer.csv')"
      ],
      "metadata": {
        "colab": {
          "base_uri": "https://localhost:8080/",
          "height": 17
        },
        "id": "HuiDKe0Pz0LH",
        "outputId": "2914811a-4945-4df5-ff93-2ec08ba52a0c"
      },
      "execution_count": 30,
      "outputs": [
        {
          "output_type": "display_data",
          "data": {
            "text/plain": [
              "<IPython.core.display.Javascript object>"
            ],
            "application/javascript": [
              "\n",
              "    async function download(id, filename, size) {\n",
              "      if (!google.colab.kernel.accessAllowed) {\n",
              "        return;\n",
              "      }\n",
              "      const div = document.createElement('div');\n",
              "      const label = document.createElement('label');\n",
              "      label.textContent = `Downloading \"${filename}\": `;\n",
              "      div.appendChild(label);\n",
              "      const progress = document.createElement('progress');\n",
              "      progress.max = size;\n",
              "      div.appendChild(progress);\n",
              "      document.body.appendChild(div);\n",
              "\n",
              "      const buffers = [];\n",
              "      let downloaded = 0;\n",
              "\n",
              "      const channel = await google.colab.kernel.comms.open(id);\n",
              "      // Send a message to notify the kernel that we're ready.\n",
              "      channel.send({})\n",
              "\n",
              "      for await (const message of channel.messages) {\n",
              "        // Send a message to notify the kernel that we're ready.\n",
              "        channel.send({})\n",
              "        if (message.buffers) {\n",
              "          for (const buffer of message.buffers) {\n",
              "            buffers.push(buffer);\n",
              "            downloaded += buffer.byteLength;\n",
              "            progress.value = downloaded;\n",
              "          }\n",
              "        }\n",
              "      }\n",
              "      const blob = new Blob(buffers, {type: 'application/binary'});\n",
              "      const a = document.createElement('a');\n",
              "      a.href = window.URL.createObjectURL(blob);\n",
              "      a.download = filename;\n",
              "      div.appendChild(a);\n",
              "      a.click();\n",
              "      div.remove();\n",
              "    }\n",
              "  "
            ]
          },
          "metadata": {}
        },
        {
          "output_type": "display_data",
          "data": {
            "text/plain": [
              "<IPython.core.display.Javascript object>"
            ],
            "application/javascript": [
              "download(\"download_367303c8-8b60-4c6e-b297-5c06c61e2945\", \"microretailer.csv\", 278596)"
            ]
          },
          "metadata": {}
        }
      ]
    },
    {
      "cell_type": "code",
      "source": [],
      "metadata": {
        "id": "Nb32Z8R7z0OX"
      },
      "execution_count": null,
      "outputs": []
    },
    {
      "cell_type": "code",
      "source": [],
      "metadata": {
        "id": "MbdKJt7kz0QL"
      },
      "execution_count": null,
      "outputs": []
    },
    {
      "cell_type": "code",
      "source": [],
      "metadata": {
        "id": "9QpM9GuqzWD5"
      },
      "execution_count": null,
      "outputs": []
    }
  ]
}