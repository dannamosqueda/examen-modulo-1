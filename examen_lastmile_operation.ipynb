{
  "nbformat": 4,
  "nbformat_minor": 0,
  "metadata": {
    "colab": {
      "provenance": [],
      "authorship_tag": "ABX9TyNL7pR2D246TmIs9UcatcH5",
      "include_colab_link": true
    },
    "kernelspec": {
      "name": "python3",
      "display_name": "Python 3"
    },
    "language_info": {
      "name": "python"
    }
  },
  "cells": [
    {
      "cell_type": "markdown",
      "metadata": {
        "id": "view-in-github",
        "colab_type": "text"
      },
      "source": [
        "<a href=\"https://colab.research.google.com/github/dannamosqueda/examen-modulo-1/blob/main/examen_lastmile_operation.ipynb\" target=\"_parent\"><img src=\"https://colab.research.google.com/assets/colab-badge.svg\" alt=\"Open In Colab\"/></a>"
      ]
    },
    {
      "cell_type": "code",
      "execution_count": null,
      "metadata": {
        "id": "zXLkqLWf0Sq6"
      },
      "outputs": [],
      "source": [
        "import pandas as pd\n",
        "import numpy as np\n",
        "import matplotlib.pyplot as plt"
      ]
    },
    {
      "cell_type": "code",
      "source": [
        "from google.colab import files\n",
        "files.upload()"
      ],
      "metadata": {
        "id": "oNXqhtAH04sK"
      },
      "execution_count": null,
      "outputs": []
    },
    {
      "cell_type": "code",
      "source": [
        "data=pd.read_csv('lastmile_delivery_operations_mit_lift_lab.csv') "
      ],
      "metadata": {
        "id": "eVdUuduH05MG"
      },
      "execution_count": null,
      "outputs": []
    },
    {
      "cell_type": "code",
      "source": [
        "valores_nulos=data.isnull().sum()\n",
        "valores_nulos"
      ],
      "metadata": {
        "id": "-WREnak31DXK"
      },
      "execution_count": null,
      "outputs": []
    },
    {
      "cell_type": "code",
      "source": [
        "data1=data.fillna(method='bfill') #eliminamos  los valores nulos numéricos  \n",
        "data1"
      ],
      "metadata": {
        "id": "-mZnsVOY1FoV"
      },
      "execution_count": null,
      "outputs": []
    },
    {
      "cell_type": "code",
      "source": [
        "data2=data1.fillna(method='bfill') #eliminamos los valores nulos numéricos \n",
        "data2"
      ],
      "metadata": {
        "id": "HEQWkG--1Icq"
      },
      "execution_count": null,
      "outputs": []
    },
    {
      "cell_type": "code",
      "source": [
        "valores_nulos=data2.isnull().sum()\n",
        "valores_nulos"
      ],
      "metadata": {
        "colab": {
          "base_uri": "https://localhost:8080/"
        },
        "id": "j3gnz0Yw1gIK",
        "outputId": "9314feae-a85d-407c-a70d-5cf7cffd1951"
      },
      "execution_count": null,
      "outputs": [
        {
          "output_type": "execute_result",
          "data": {
            "text/plain": [
              "_record_id                                         0\n",
              "_title                                             0\n",
              "_server_updated_at                                 0\n",
              "_updated_by                                        0\n",
              "_geometry                                          0\n",
              "_latitude                                          0\n",
              "_longitude                                         0\n",
              "arrival_of_the_freight_vehicle                     0\n",
              "plates                                             0\n",
              "company_if_visible                                 0\n",
              "visit_purpose                                      0\n",
              "type_of_vehicle                                    0\n",
              "number_of_operators                                0\n",
              "refrigerated_truck                                 0\n",
              "type_of_cargo                                      0\n",
              "picture_of_the_parked_freight_vehicle              0\n",
              "departure_of_the_freight_vehicle                   0\n",
              "where_was_the_vehicle_parked                       0\n",
              "while_parked_was_the_engine_running                0\n",
              "used_traffic_cone                                  0\n",
              "vehicles_unloading_door                            0\n",
              "number_of_available_trolleys                       0\n",
              "serving_customer                                  17\n",
              "garage_blocking                                    0\n",
              "accident                                           0\n",
              "describe_the_accident                            182\n",
              "noise                                              0\n",
              "traffic_congestion                                 0\n",
              "maximum_number_of_vehicles_in_the_traffic_jam     28\n",
              "dtype: int64"
            ]
          },
          "metadata": {},
          "execution_count": 8
        }
      ]
    },
    {
      "cell_type": "code",
      "source": [
        "data2[\"serving_customer\"]=data2[\"serving_customer\"].fillna(\"serving_customer\")\n",
        "data2[\"describe_the_accident\"]=data2[\"describe_the_accident\"].fillna(\"describe_the_accident\")\n",
        "data2[\"maximum_number_of_vehicles_in_the_traffic_jam\"]=data2[\"maximum_number_of_vehicles_in_the_traffic_jam\"].fillna(\"maximum_number_of_vehicles_in_the_traffic_jam\")"
      ],
      "metadata": {
        "id": "YNv_BPhf1oYg"
      },
      "execution_count": null,
      "outputs": []
    },
    {
      "cell_type": "code",
      "source": [
        "valores_nulos=data2.isnull().sum()\n",
        "valores_nulos"
      ],
      "metadata": {
        "colab": {
          "base_uri": "https://localhost:8080/"
        },
        "id": "bp_hiEFC148O",
        "outputId": "72606841-57ed-4432-a989-1a3a0fa7f060"
      },
      "execution_count": null,
      "outputs": [
        {
          "output_type": "execute_result",
          "data": {
            "text/plain": [
              "_record_id                                       0\n",
              "_title                                           0\n",
              "_server_updated_at                               0\n",
              "_updated_by                                      0\n",
              "_geometry                                        0\n",
              "_latitude                                        0\n",
              "_longitude                                       0\n",
              "arrival_of_the_freight_vehicle                   0\n",
              "plates                                           0\n",
              "company_if_visible                               0\n",
              "visit_purpose                                    0\n",
              "type_of_vehicle                                  0\n",
              "number_of_operators                              0\n",
              "refrigerated_truck                               0\n",
              "type_of_cargo                                    0\n",
              "picture_of_the_parked_freight_vehicle            0\n",
              "departure_of_the_freight_vehicle                 0\n",
              "where_was_the_vehicle_parked                     0\n",
              "while_parked_was_the_engine_running              0\n",
              "used_traffic_cone                                0\n",
              "vehicles_unloading_door                          0\n",
              "number_of_available_trolleys                     0\n",
              "serving_customer                                 0\n",
              "garage_blocking                                  0\n",
              "accident                                         0\n",
              "describe_the_accident                            0\n",
              "noise                                            0\n",
              "traffic_congestion                               0\n",
              "maximum_number_of_vehicles_in_the_traffic_jam    0\n",
              "dtype: int64"
            ]
          },
          "metadata": {},
          "execution_count": 10
        }
      ]
    },
    {
      "cell_type": "code",
      "source": [
        "#diagrama de caja de bigote de todo el data\n",
        "fig=plt.figure(figsize=(15,8)) \n",
        "data2.plot(kind=\"box\",vert=False) \n",
        "plt.title(\"Valores atípicos del DataFrame\") \n",
        "plt.show()"
      ],
      "metadata": {
        "colab": {
          "base_uri": "https://localhost:8080/",
          "height": 299
        },
        "id": "4_lNuDAU196A",
        "outputId": "a1df28f3-5c10-497a-fc43-d2d92dd5285b"
      },
      "execution_count": null,
      "outputs": [
        {
          "output_type": "display_data",
          "data": {
            "text/plain": [
              "<Figure size 1080x576 with 0 Axes>"
            ]
          },
          "metadata": {}
        },
        {
          "output_type": "display_data",
          "data": {
            "text/plain": [
              "<Figure size 432x288 with 1 Axes>"
            ],
            "image/png": "[encoded data removed]"
          },
          "metadata": {
            "needs_background": "light"
          }
        }
      ]
    },
    {
      "cell_type": "code",
      "source": [
        "y=data2['number_of_available_trolleys']\n",
        "p25=y.quantile(0.25)\n",
        "p75=y.quantile(0.75)\n",
        "iqr=p75-p25\n",
        "\n",
        "lsiqr=p75+1.5*iqr\n",
        "liiqr=p25-1.5*iqr\n",
        "\n",
        "print('Limite superior permitido', lsiqr)\n",
        "print('Limite inferior permitido', liiqr)"
      ],
      "metadata": {
        "colab": {
          "base_uri": "https://localhost:8080/"
        },
        "id": "QXXlM1PI2Bm1",
        "outputId": "b42047d9-5308-43e7-8ddd-3756c1e7fb0d"
      },
      "execution_count": null,
      "outputs": [
        {
          "output_type": "stream",
          "name": "stdout",
          "text": [
            "Limite superior permitido 2.5\n",
            "Limite inferior permitido -1.5\n"
          ]
        }
      ]
    },
    {
      "cell_type": "code",
      "source": [
        "outliers_iqr=data2[(y>lsiqr)|(y<liiqr)]\n",
        "outliers_iqr"
      ],
      "metadata": {
        "id": "LKdH6WKr2OTj"
      },
      "execution_count": null,
      "outputs": []
    },
    {
      "cell_type": "code",
      "source": [
        "outliers1_iqr=data2[(y<lsiqr)&(y>liiqr)] \n",
        "outliers1_iqr"
      ],
      "metadata": {
        "id": "quunVQuz2P9f"
      },
      "execution_count": null,
      "outputs": []
    },
    {
      "cell_type": "code",
      "source": [
        "fig=plt.figure(figsize=(5,3))\n",
        "plt.boxplot(outliers_iqr['number_of_available_trolleys'])\n",
        "plt.title('Valores atipicos')\n",
        "plt.show()"
      ],
      "metadata": {
        "id": "sA6Kw83Q2R0O"
      },
      "execution_count": null,
      "outputs": []
    },
    {
      "cell_type": "code",
      "source": [
        "y=data2['number_of_operators']\n",
        "p25=y.quantile(0.25)\n",
        "p75=y.quantile(0.75)\n",
        "iqr=p75-p25\n",
        "\n",
        "lsiqr=p75+1.5*iqr\n",
        "liiqr=p25-1.5*iqr\n",
        "\n",
        "print('Limite superior permitido', lsiqr)\n",
        "print('Limite inferior permitido', liiqr)"
      ],
      "metadata": {
        "colab": {
          "base_uri": "https://localhost:8080/"
        },
        "id": "hkw9FerJ2ZX_",
        "outputId": "765775ff-d232-4aaf-b3c6-a5a2ee22b82e"
      },
      "execution_count": null,
      "outputs": [
        {
          "output_type": "stream",
          "name": "stdout",
          "text": [
            "Limite superior permitido 3.5\n",
            "Limite inferior permitido -0.5\n"
          ]
        }
      ]
    },
    {
      "cell_type": "code",
      "source": [
        "outliers_iqr=data2[(y>lsiqr)|(y<liiqr)]\n",
        "outliers_iqr"
      ],
      "metadata": {
        "id": "1XzhUI692ZcS"
      },
      "execution_count": null,
      "outputs": []
    },
    {
      "cell_type": "code",
      "source": [
        "outliers1_iqr=data2[(y<lsiqr)&(y>liiqr)] \n",
        "outliers1_iqr"
      ],
      "metadata": {
        "id": "Hyq4817D2Zgm"
      },
      "execution_count": null,
      "outputs": []
    },
    {
      "cell_type": "code",
      "source": [
        "fig=plt.figure(figsize=(5,3))\n",
        "plt.boxplot(outliers_iqr['number_of_operators'])\n",
        "plt.title('Valores atipicos')\n",
        "plt.show()"
      ],
      "metadata": {
        "colab": {
          "base_uri": "https://localhost:8080/",
          "height": 227
        },
        "id": "JmZGps9T2Zka",
        "outputId": "c890914b-0318-462b-aaf7-7109f115cad1"
      },
      "execution_count": null,
      "outputs": [
        {
          "output_type": "display_data",
          "data": {
            "text/plain": [
              "<Figure size 360x216 with 1 Axes>"
            ],
            "image/png": "[encoded data removed]"
          },
          "metadata": {
            "needs_background": "light"
          }
        }
      ]
    },
    {
      "cell_type": "code",
      "source": [
        "outliers1_iqr.to_csv('lastmile_operationo.csv')"
      ],
      "metadata": {
        "id": "-t1hdScy2Zpk"
      },
      "execution_count": null,
      "outputs": []
    },
    {
      "cell_type": "code",
      "source": [
        "from google.colab import files \n",
        "files.download('lastmile_operationo.csv')"
      ],
      "metadata": {
        "colab": {
          "base_uri": "https://localhost:8080/",
          "height": 17
        },
        "id": "3hbLwQK52Zsm",
        "outputId": "1ddb7387-77cc-49f0-ac81-2fab7bde47c3"
      },
      "execution_count": null,
      "outputs": [
        {
          "output_type": "display_data",
          "data": {
            "text/plain": [
              "<IPython.core.display.Javascript object>"
            ],
            "application/javascript": [
              "\n",
              "    async function download(id, filename, size) {\n",
              "      if (!google.colab.kernel.accessAllowed) {\n",
              "        return;\n",
              "      }\n",
              "      const div = document.createElement('div');\n",
              "      const label = document.createElement('label');\n",
              "      label.textContent = `Downloading \"${filename}\": `;\n",
              "      div.appendChild(label);\n",
              "      const progress = document.createElement('progress');\n",
              "      progress.max = size;\n",
              "      div.appendChild(progress);\n",
              "      document.body.appendChild(div);\n",
              "\n",
              "      const buffers = [];\n",
              "      let downloaded = 0;\n",
              "\n",
              "      const channel = await google.colab.kernel.comms.open(id);\n",
              "      // Send a message to notify the kernel that we're ready.\n",
              "      channel.send({})\n",
              "\n",
              "      for await (const message of channel.messages) {\n",
              "        // Send a message to notify the kernel that we're ready.\n",
              "        channel.send({})\n",
              "        if (message.buffers) {\n",
              "          for (const buffer of message.buffers) {\n",
              "            buffers.push(buffer);\n",
              "            downloaded += buffer.byteLength;\n",
              "            progress.value = downloaded;\n",
              "          }\n",
              "        }\n",
              "      }\n",
              "      const blob = new Blob(buffers, {type: 'application/binary'});\n",
              "      const a = document.createElement('a');\n",
              "      a.href = window.URL.createObjectURL(blob);\n",
              "      a.download = filename;\n",
              "      div.appendChild(a);\n",
              "      a.click();\n",
              "      div.remove();\n",
              "    }\n",
              "  "
            ]
          },
          "metadata": {}
        },
        {
          "output_type": "display_data",
          "data": {
            "text/plain": [
              "<IPython.core.display.Javascript object>"
            ],
            "application/javascript": [
              "download(\"download_ed6280da-f5df-48d6-b65b-eec6e32ff4c5\", \"lastmile_operationo.csv\", 86581)"
            ]
          },
          "metadata": {}
        }
      ]
    }
  ]
}